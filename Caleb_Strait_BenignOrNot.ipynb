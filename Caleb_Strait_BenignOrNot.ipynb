{
 "cells": [
  {
   "cell_type": "markdown",
   "metadata": {},
   "source": [
    "## Predicting Malignancy in Biopsied Breast Cells\n",
    "My task was to develop a model that predicts whether a biopsied breast cell is benign (not harmful) or malignant (cancerous), given a set of attributes about the cell. I used logistic regression as the basis of a binary classifier that ended up being able to predict malignancy with ~96% accuracy."
   ]
  },
  {
   "cell_type": "markdown",
   "metadata": {},
   "source": [
    "I started by importing the necessary python modules:"
   ]
  },
  {
   "cell_type": "code",
   "execution_count": 1,
   "metadata": {
    "collapsed": false
   },
   "outputs": [],
   "source": [
    "import numpy as np\n",
    "import pandas as pd\n",
    "import matplotlib.pyplot as plt\n",
    "from sklearn.linear_model import LogisticRegression\n",
    "from sklearn.model_selection import train_test_split\n",
    "from sklearn.model_selection import cross_val_score\n",
    "from sklearn import metrics"
   ]
  },
  {
   "cell_type": "markdown",
   "metadata": {},
   "source": [
    "I received the data as a .csv ('breast-cancer-wisconsin.csv'). I imported the dataset and loaded it into a pandas DataFrame:"
   ]
  },
  {
   "cell_type": "code",
   "execution_count": 2,
   "metadata": {
    "collapsed": false
   },
   "outputs": [],
   "source": [
    "df = pd.read_csv('breast-cancer-wisconsin.csv', na_values = '?', names=('Sample #', 'Clump Thickness', 'Uniformity of Cell Size', 'Uniformity of Cell Shape', 'Marginal Adhesion', 'Single Epithelial Cell Size', 'Bare Nuclei', 'Bland Chromatin', 'Normal Nucleoli', 'Mitoses', 'Class'))"
   ]
  },
  {
   "cell_type": "markdown",
   "metadata": {},
   "source": [
    "The dataset's missing values were all in the 'Bare Nuclei' attribute column. I replaced those missing values with the mean value from the rest of the column. This lets me use every row of the dataset to train my classifier, but it does introduce another assumption to my model: that those missing bare nuclei data would in fact be close to the mean of the rest of that column."
   ]
  },
  {
   "cell_type": "code",
   "execution_count": 3,
   "metadata": {
    "collapsed": false
   },
   "outputs": [],
   "source": [
    "df.loc[df['Bare Nuclei'].isnull(), 'Bare Nuclei'] = df['Bare Nuclei'].mean()"
   ]
  },
  {
   "cell_type": "markdown",
   "metadata": {
    "collapsed": true
   },
   "source": [
    "I was asked to build a binary classifier, so I fit logistic regression model to use as the basis of my classifier. First I prepared my independant variables (predictors) as the 2D array 'X' and my dependant variable (malignancy classification) as the 1D array 'Y':"
   ]
  },
  {
   "cell_type": "code",
   "execution_count": 4,
   "metadata": {
    "collapsed": false
   },
   "outputs": [],
   "source": [
    "X = df.as_matrix(columns=df.columns[1:10])\n",
    "Y = df['Class'].map({2 : 'benign', 4 : 'malignant'})"
   ]
  },
  {
   "cell_type": "markdown",
   "metadata": {},
   "source": [
    "I fit a logistic regression model to 85% of the data, leaving 15% out to test the model afterwards:"
   ]
  },
  {
   "cell_type": "code",
   "execution_count": 5,
   "metadata": {
    "collapsed": false
   },
   "outputs": [],
   "source": [
    "X_train, X_test, Y_train, Y_test = train_test_split(X, Y, test_size=0.15, random_state=0, stratify = Y)\n",
    "model = LogisticRegression()\n",
    "model = model.fit(X_train, Y_train)"
   ]
  },
  {
   "cell_type": "markdown",
   "metadata": {},
   "source": [
    "Then I tested the model's performance, using it to generate predicted malignancy classifications for my withheld test data, and comparing those predictions to the true malignancy of those data:"
   ]
  },
  {
   "cell_type": "code",
   "execution_count": 6,
   "metadata": {
    "collapsed": false
   },
   "outputs": [
    {
     "name": "stdout",
     "output_type": "stream",
     "text": [
      "The resulting model is accurate 96.1904761905% of the time.\n"
     ]
    }
   ],
   "source": [
    "predicted_Y = model.predict(X_test)\n",
    "print('The resulting model is accurate ' + str(100 * metrics.accuracy_score(Y_test, predicted_Y)) + '% of the time.')"
   ]
  },
  {
   "cell_type": "markdown",
   "metadata": {
    "collapsed": true
   },
   "source": [
    "This logistic regression model seems to be quite accurate (~96% accurate), but this alone is rather opaque. I wanted to know more about how each of the dataset's attributes were being used in the model to produce a classification, so plotted the model's coefficients for each predictor:"
   ]
  },
  {
   "cell_type": "code",
   "execution_count": 7,
   "metadata": {
    "collapsed": false,
    "scrolled": true
   },
   "outputs": [
    {
     "data": {
      "image/png": "[encoded data removed]",
      "text/plain": [
       "<matplotlib.figure.Figure at 0x114995630>"
      ]
     },
     "metadata": {},
     "output_type": "display_data"
    }
   ],
   "source": [
    "labels = df.columns[1:10].values\n",
    "xaxis = range(0,len(labels))\n",
    "%matplotlib inline\n",
    "plt.style.use('ggplot')\n",
    "_ = plt.bar((xaxis), np.transpose(model.coef_))\n",
    "_, lbls = plt.xticks([x+.4 for x in xaxis], labels)\n",
    "_ = plt.setp(lbls, rotation=90)\n",
    "_ = plt.title('Logistic Regression Coefficients')"
   ]
  },
  {
   "cell_type": "markdown",
   "metadata": {},
   "source": [
    "A biopsied breast cell's number of bare nuclei, and its uniformity in shape seems to be the strongest predictor of malignancy (i.e. these attributes have largest coefficients in the model). That being said, for each attribute included in the dataset except for single epithelial cell size, a higher score seems to increase the chance of malignancy. Given more time I would calculate the p-values associated with each coefficient to be able to label their contributions to malignancy as significant or not significant. Additionally, this model could be further evaluated with an ROC analysis."
   ]
  },
  {
   "cell_type": "markdown",
   "metadata": {},
   "source": [
    "To use this model for future biopsied breast cell classifications, format new cell data as detailed here: https://archive.ics.uci.edu/ml/datasets/Breast%20Cancer%20Wisconsin%20(Original) into a variable 'attributes' and run the following code:\n",
    "### malignancy prediction = model.predict(attributes)"
   ]
  }
 ],
 "metadata": {
  "anaconda-cloud": {},
  "kernelspec": {
   "display_name": "Python [default]",
   "language": "python",
   "name": "python3"
  },
  "language_info": {
   "codemirror_mode": {
    "name": "ipython",
    "version": 3
   },
   "file_extension": ".py",
   "mimetype": "text/x-python",
   "name": "python",
   "nbconvert_exporter": "python",
   "pygments_lexer": "ipython3",
   "version": "3.5.2"
  }
 },
 "nbformat": 4,
 "nbformat_minor": 1
}
